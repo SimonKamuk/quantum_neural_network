{
  "cells": [
    {
      "cell_type": "markdown",
      "source": [
        "# Inner product Estimation using Faster Amplitude Estimation\r\n",
        "\r\n",
        "In the following code, the inner product of two 2D vectors is estimated using the faster amplitude estimation. \r\n",
        "\r\n",
        "The next cell loads the necessary modules and defines the class used for running Faster Amplitude Estimation by submitting each quantum circuit as a job:"
      ],
      "metadata": {
        "nteract": {
          "transient": {
            "deleting": false
          }
        }
      }
    },
    {
      "cell_type": "code",
      "source": [
        "from azure.quantum import Workspace\n",
        "workspace = Workspace (\n",
        "    subscription_id = \"799529d3-173c-4965-a9c5-b2d64bf4ab95\",\n",
        "    resource_group = \"nt_prototyping\",\n",
        "    name = \"quantumdemo\",\n",
        "    location = \"westeurope\"\n",
        ")\n",
        "\n",
        "from qiskit.algorithms import AmplitudeEstimation,EstimationProblem,FasterAmplitudeEstimation\n",
        "from qiskit import QuantumCircuit\n",
        "from qiskit.algorithms.exceptions import AlgorithmError\n",
        "import numpy as np\n",
        "from azure.quantum.qiskit import AzureQuantumProvider\n",
        "from qiskit.utils import QuantumInstance\n",
        "from qiskit.compiler import transpile\n",
        "import matplotlib.pyplot as plt\n",
        "\n",
        "provider = AzureQuantumProvider(\n",
        "  resource_id=\"/subscriptions/799529d3-173c-4965-a9c5-b2d64bf4ab95/resourceGroups/NT_Prototyping/providers/Microsoft.Quantum/Workspaces/QuantumDemo\",\n",
        "  location=\"West Europe\"\n",
        ")\n",
        "\n",
        "\n",
        "class ModifiedFasterAmplitudeEstimation(FasterAmplitudeEstimation):\n",
        "    def _cos_estimate(self, estimation_problem, k, shots):\n",
        "        if self._quantum_instance is None:\n",
        "            raise AlgorithmError(\"Quantum instance must be set.\")\n",
        "\n",
        "        if self._quantum_instance.is_statevector:\n",
        "            circuit = self.construct_circuit(estimation_problem, k, measurement=False)\n",
        "            statevector = self._quantum_instance.execute(circuit).get_statevector()\n",
        "\n",
        "            # sum over all amplitudes where the objective qubits are 1\n",
        "            prob = 0\n",
        "            for i, amplitude in enumerate(statevector):\n",
        "                # get bitstring of objective qubits\n",
        "                full_state = bin(i)[2:].zfill(circuit.num_qubits)[::-1]\n",
        "                state = \"\".join([full_state[i] for i in estimation_problem.objective_qubits])\n",
        "\n",
        "                # check if it is a good state\n",
        "                if estimation_problem.is_good_state(state[::-1]):\n",
        "                    prob = prob + np.abs(amplitude) ** 2\n",
        "\n",
        "            cos_estimate = 1 - 2 * prob\n",
        "        else:\n",
        "            circuit = self.construct_circuit(estimation_problem, k, measurement=True)\n",
        "            #THE FOLLOWING IS MODIFIED TO SUBMIT AS JOB:\n",
        "            circuit = transpile(circuit,self.quantum_instance.backend)\n",
        "            print(circuit)\n",
        "            job = self._quantum_instance.backend.run(circuit, shots=shots)\n",
        "            job_id = job.id()\n",
        "            print(\"Job id\", job_id)\n",
        "            result = job.result()\n",
        "            print(result)\n",
        "            \n",
        "            #self._quantum_instance.run_config.shots = shots\n",
        "            #counts = self._quantum_instance.execute(circuit).get_counts()\n",
        "            counts = result.get_counts(circuit)\n",
        "            self._num_oracle_calls += (2 * k + 1) * shots\n",
        "\n",
        "            good_counts = 0\n",
        "            for state, count in counts.items():\n",
        "                if estimation_problem.is_good_state(state):\n",
        "                    good_counts += count\n",
        "\n",
        "            cos_estimate = 1 - 2 * good_counts / shots\n",
        "\n",
        "        return cos_estimate\n",
        "\n",
        "\n"
      ],
      "outputs": [],
      "execution_count": 1,
      "metadata": {
        "jupyter": {
          "source_hidden": false,
          "outputs_hidden": false
        },
        "nteract": {
          "transient": {
            "deleting": false
          }
        }
      }
    },
    {
      "cell_type": "markdown",
      "source": [
        "Define classes for state preparation operator A and Grover operator Q.\r\n",
        "\r\n",
        " $\\theta_1$ and  $\\theta_2$ define the 2D vector vectors: $|c \\rangle = \\begin{pmatrix}\r\n",
        "\\cos(\\theta_1)\\\\\r\n",
        "\\sin(\\theta_1)\r\n",
        "\\end{pmatrix}$ and $|v \\rangle = \\begin{pmatrix}\r\n",
        "\\cos(\\theta_2)\\\\\r\n",
        "\\sin(\\theta_2)\r\n",
        "\\end{pmatrix}$:"
      ],
      "metadata": {
        "nteract": {
          "transient": {
            "deleting": false
          }
        }
      }
    },
    {
      "cell_type": "code",
      "source": [
        "class BernoulliA(QuantumCircuit):\r\n",
        "    \"\"\"A circuit representing the Bernoulli A operator.\"\"\"\r\n",
        "\r\n",
        "    def __init__(self, theta1, theta2):\r\n",
        "        super().__init__(2)  # circuit on 2 qubit\r\n",
        "\r\n",
        "        self.h(0)\r\n",
        "        self.cry(theta1, 0, 1)\r\n",
        "        self.x(0)\r\n",
        "        self.cry(theta2, 0, 1)\r\n",
        "        self.h(0)\r\n",
        "\r\n",
        "class BernoulliA_trans(QuantumCircuit):\r\n",
        "    \"\"\"A circuit representing the transposed Bernoulli A operator.\"\"\"\r\n",
        "\r\n",
        "    def __init__(self, theta1, theta2):\r\n",
        "        super().__init__(2)  # circuit on 2 qubit\r\n",
        "\r\n",
        "        self.h(0)\r\n",
        "        self.cry(-theta2, 0, 1)\r\n",
        "        self.x(0)\r\n",
        "        self.cry(-theta1, 0, 1)\r\n",
        "        self.h(0)\r\n",
        "\r\n",
        "class BernoulliQ(QuantumCircuit):\r\n",
        "    \"\"\"A circuit representing the Bernoulli Q operator.\"\"\"\r\n",
        "\r\n",
        "    def __init__(self,theta1, theta2):\r\n",
        "        super().__init__(2)  # circuit on 2 qubit\r\n",
        "        \r\n",
        "        A = BernoulliA(theta1, theta2)\r\n",
        "        A_trans = BernoulliA_trans(theta1,theta2)\r\n",
        "        \r\n",
        "        self.x(0)\r\n",
        "        self.z(0)\r\n",
        "        self.x(0)\r\n",
        "        self.compose(A_trans,inplace=True)\r\n",
        "        self.x([0,1])\r\n",
        "        self.h(1)\r\n",
        "        self.cx([0],1)\r\n",
        "        self.h(1)\r\n",
        "        self.x([0,1])\r\n",
        "        self.compose(A,inplace=True)"
      ],
      "outputs": [],
      "execution_count": 2,
      "metadata": {
        "jupyter": {
          "source_hidden": false,
          "outputs_hidden": false
        },
        "nteract": {
          "transient": {
            "deleting": false
          }
        }
      }
    },
    {
      "cell_type": "markdown",
      "source": [
        "Define the angles of the two vectors:  "
      ],
      "metadata": {
        "nteract": {
          "transient": {
            "deleting": false
          }
        }
      }
    },
    {
      "cell_type": "code",
      "source": [
        "theta1, theta2 = 2*np.pi/6,0\r\n",
        "A = BernoulliA(theta1,theta2)\r\n",
        "Q = BernoulliQ(theta1,theta2)\r\n"
      ],
      "outputs": [],
      "execution_count": 3,
      "metadata": {
        "jupyter": {
          "source_hidden": false,
          "outputs_hidden": false
        },
        "nteract": {
          "transient": {
            "deleting": false
          }
        }
      }
    },
    {
      "cell_type": "markdown",
      "source": [
        "Set the faster amplitude estimation solver. delta is the probability of having an estimate which is outside the error bounds of the algorithm which is determined by maxiter.  "
      ],
      "metadata": {
        "nteract": {
          "transient": {
            "deleting": false
          }
        }
      }
    },
    {
      "cell_type": "code",
      "source": [
        "backend = provider.get_backend(\"ionq.simulator\")\r\n",
        "quantum_instance = QuantumInstance(backend)\r\n",
        "fae = ModifiedFasterAmplitudeEstimation(\r\n",
        "      delta=0.01,  # target accuracy\r\n",
        "      maxiter=2,  # determines the maximal power of the Grover operator\r\n",
        "      quantum_instance=quantum_instance,\r\n",
        "      rescale=True\r\n",
        ")\r\n",
        "problem = EstimationProblem(\r\n",
        "    state_preparation=A,  # A operator\r\n",
        "    grover_operator=Q,  # Q operator\r\n",
        "    objective_qubits=[0],  # the \"good\" state Psi1 is identified as measuring |1> in qubit 0\r\n",
        ")\r\n",
        "\r\n"
      ],
      "outputs": [],
      "execution_count": 4,
      "metadata": {
        "jupyter": {
          "source_hidden": false,
          "outputs_hidden": false
        },
        "nteract": {
          "transient": {
            "deleting": false
          }
        }
      }
    },
    {
      "cell_type": "code",
      "source": [
        "fae_result = fae.estimate(problem)\r\n",
        "#ae_result = fae.estimate(problem)\r\n",
        "ip = np.cos(theta1/2)*np.cos(theta2/2)+np.sin(theta1/2)*np.sin(theta2/2)\r\n",
        "ie = 1-2*fae_result.estimation\r\n",
        "#Compare expected result with obtained result\r\n",
        "print('Inner product estimate: {es:.5f}'.format(es = ie))\r\n",
        "print('Expected result       : {es:.5f}'.format(es = ip))\r\n",
        "print('Deviation             : {es:.5f}'.format(es = (ip-ie)/(ip)))\r\n"
      ],
      "outputs": [
        {
          "output_type": "stream",
          "name": "stderr",
          "text": "/usr/local/lib/python3.7/site-packages/qiskit/algorithms/amplitude_estimators/estimation_problem.py:194: UserWarning: Rescaling discards the Grover operator.\n  warnings.warn(\"Rescaling discards the Grover operator.\")\n"
        },
        {
          "output_type": "stream",
          "name": "stdout",
          "text": "global phase: π/2\n           ┌───┐                ┌───┐         ┌───┐       ┌───┐   »\n q_0: ─────┤ H ├──────────■─────┤ X ├────■────┤ H ├──■────┤ H ├───»\n           └───┘     ┌────┴────┐└───┘┌───┴───┐└───┘  │    └───┘   »\n q_1: ───────────────┤ Ry(π/3) ├─────┤ Ry(0) ├───────┼────────────»\n      ┌─────────────┐└──┬───┬──┘     └───────┘     ┌─┴─┐┌────────┐»\n q_2: ┤ Ry(0.50536) ├───┤ H ├──────────────────────┤ X ├┤ Rz(-π) ├»\n      └─────────────┘   └───┘                      └───┘└────────┘»\nc0: 2/════════════════════════════════════════════════════════════»\n                                                                  »\n«                      ┌───┐            ┌─────────┐      ┌──────────┐ »\n« q_0: ───────■────────┤ X ├─────■──────┤ Ry(π/2) ├──■───┤ Ry(-π/2) ├─»\n«         ┌───┴───┐    └───┘┌────┴─────┐└──┬───┬──┘  │   └──┬───┬───┘ »\n« q_1: ───┤ Ry(0) ├─────────┤ Ry(-π/3) ├───┤ X ├─────■──────┤ X ├─────»\n«      ┌──┴───────┴───┐     └──────────┘   └───┘   ┌─┴─┐┌───┴───┴────┐»\n« q_2: ┤ Ry(-0.50536) ├────────────────────────────┤ X ├┤ Ry(2.0762) ├»\n«      └──────────────┘                            └───┘└────────────┘»\n«c0: 2/═══════════════════════════════════════════════════════════════»\n«                                                                     »\n«                 ┌───┐         ┌───┐ ░ ┌─┐   \n« q_0: ─────■─────┤ X ├────■────┤ H ├─░─┤M├───\n«      ┌────┴────┐└───┘┌───┴───┐└───┘ ░ └╥┘   \n« q_1: ┤ Ry(π/3) ├─────┤ Ry(0) ├──────░──╫────\n«      └─────────┘     └───────┘      ░  ║ ┌─┐\n« q_2: ───────────────────────────────░──╫─┤M├\n«                                     ░  ║ └╥┘\n«c0: 2/══════════════════════════════════╩══╩═\n«                                        0  1 \nJob id 6fd07eb4-dc26-11ec-92f6-00155d111efe\n...........Result(backend_name='ionq.simulator', backend_version='1', qobj_id='circuit', job_id='6fd07eb4-dc26-11ec-92f6-00155d111efe', success=True, results=[ExperimentResult(shots=10299, success=True, meas_level=2, data=ExperimentResultData(counts={'00': 8732, '01': 634, '10': 545, '11': 388}, probabilities=defaultdict(<class 'int'>, {'00': 0.8456478475, '01': 0.06071478382, '10': 0.05637652317, '11': 0.03726084514})), header=QobjExperimentHeader(meas_map='[0, 2]', metadata=None, name='circuit', num_qubits='3', qiskit='True'))])\nglobal phase: π/2\n           ┌───┐                ┌───┐         ┌───┐       ┌───┐   »\n q_0: ─────┤ H ├──────────■─────┤ X ├────■────┤ H ├──■────┤ H ├───»\n           └───┘     ┌────┴────┐└───┘┌───┴───┐└───┘  │    └───┘   »\n q_1: ───────────────┤ Ry(π/3) ├─────┤ Ry(0) ├───────┼────────────»\n      ┌─────────────┐└──┬───┬──┘     └───────┘     ┌─┴─┐┌────────┐»\n q_2: ┤ Ry(0.50536) ├───┤ H ├──────────────────────┤ X ├┤ Rz(-π) ├»\n      └─────────────┘   └───┘                      └───┘└────────┘»\nc1: 2/════════════════════════════════════════════════════════════»\n                                                                  »\n«                      ┌───┐            ┌─────────┐     ┌──────────┐»\n« q_0: ───────■────────┤ X ├─────■──────┤ Ry(π/2) ├──■──┤ Ry(-π/2) ├»\n«         ┌───┴───┐    └───┘┌────┴─────┐└──┬───┬──┘  │  └──┬───┬───┘»\n« q_1: ───┤ Ry(0) ├─────────┤ Ry(-π/3) ├───┤ X ├─────■─────┤ X ├────»\n«      ┌──┴───────┴───┐     └──────────┘   └───┘   ┌─┴─┐ ┌─┴───┴──┐ »\n« q_2: ┤ Ry(-0.50536) ├────────────────────────────┤ X ├─┤ Rz(-π) ├─»\n«      └──────────────┘                            └───┘ └────────┘ »\n«c1: 2/═════════════════════════════════════════════════════════════»\n«                                                                   »\n«                      ┌───┐         ┌───┐       ┌───┐                   ┌───┐»\n« q_0: ───────■────────┤ X ├────■────┤ H ├──■────┤ H ├──────────■────────┤ X ├»\n«        ┌────┴────┐   └───┘┌───┴───┐└───┘  │    └───┘      ┌───┴───┐    └───┘»\n« q_1: ──┤ Ry(π/3) ├────────┤ Ry(0) ├───────┼───────────────┤ Ry(0) ├─────────»\n«      ┌─┴─────────┴──┐     └───────┘     ┌─┴─┐┌────────┐┌──┴───────┴───┐     »\n« q_2: ┤ Ry(-0.50536) ├───────────────────┤ X ├┤ Rz(-π) ├┤ Ry(-0.50536) ├─────»\n«      └──────────────┘                   └───┘└────────┘└──────────────┘     »\n«c1: 2/═══════════════════════════════════════════════════════════════════════»\n«                                                                             »\n«                  ┌─────────┐      ┌──────────┐            ┌───┐         ┌───┐»\n« q_0: ─────■──────┤ Ry(π/2) ├──■───┤ Ry(-π/2) ├──────■─────┤ X ├────■────┤ H ├»\n«      ┌────┴─────┐└──┬───┬──┘  │   └──┬───┬───┘ ┌────┴────┐└───┘┌───┴───┐└───┘»\n« q_1: ┤ Ry(-π/3) ├───┤ X ├─────■──────┤ X ├─────┤ Ry(π/3) ├─────┤ Ry(0) ├─────»\n«      └──────────┘   └───┘   ┌─┴─┐┌───┴───┴────┐└─────────┘     └───────┘     »\n« q_2: ───────────────────────┤ X ├┤ Ry(2.0762) ├──────────────────────────────»\n«                             └───┘└────────────┘                              »\n«c1: 2/════════════════════════════════════════════════════════════════════════»\n«                                                                              »\n«       ░ ┌─┐   \n« q_0: ─░─┤M├───\n«       ░ └╥┘   \n« q_1: ─░──╫────\n«       ░  ║ ┌─┐\n« q_2: ─░──╫─┤M├\n«       ░  ║ └╥┘\n«c1: 2/════╩══╩═\n«          0  1 \nJob id 852d22d0-dc26-11ec-92f6-00155d111efe\n...........Result(backend_name='ionq.simulator', backend_version='1', qobj_id='circuit', job_id='852d22d0-dc26-11ec-92f6-00155d111efe', success=True, results=[ExperimentResult(shots=10299, success=True, meas_level=2, data=ExperimentResultData(counts={'00': 8125, '01': 610, '10': 529, '11': 1035}, probabilities=defaultdict(<class 'int'>, {'00': 0.7894826657, '01': 0.05668230517, '10': 0.05263217768, '11': 0.10120285190999999})), header=QobjExperimentHeader(meas_map='[0, 2]', metadata=None, name='circuit', num_qubits='3', qiskit='True'))])\nInner product estimate: 0.87188\nExpected result       : 0.86603\nDeviation             : -0.00676\n"
        }
      ],
      "execution_count": 5,
      "metadata": {
        "jupyter": {
          "source_hidden": false,
          "outputs_hidden": false
        },
        "nteract": {
          "transient": {
            "deleting": false
          }
        }
      }
    },
    {
      "cell_type": "code",
      "source": [],
      "outputs": [],
      "execution_count": null,
      "metadata": {
        "jupyter": {
          "source_hidden": false,
          "outputs_hidden": false
        },
        "nteract": {
          "transient": {
            "deleting": false
          }
        }
      }
    },
    {
      "cell_type": "code",
      "source": [],
      "outputs": [],
      "execution_count": null,
      "metadata": {
        "jupyter": {
          "source_hidden": false,
          "outputs_hidden": false
        },
        "nteract": {
          "transient": {
            "deleting": false
          }
        }
      }
    }
  ],
  "metadata": {
    "language_info": {
      "name": "python",
      "version": "3.7.13",
      "mimetype": "text/x-python",
      "codemirror_mode": {
        "name": "ipython",
        "version": 3
      },
      "pygments_lexer": "ipython3",
      "nbconvert_exporter": "python",
      "file_extension": ".py"
    },
    "kernelspec": {
      "name": "python3",
      "language": "python",
      "display_name": "Python 3 (ipykernel)"
    },
    "kernel_info": {
      "name": "python3"
    },
    "nteract": {
      "version": "nteract-front-end@1.0.0"
    }
  },
  "nbformat": 4,
  "nbformat_minor": 0
}